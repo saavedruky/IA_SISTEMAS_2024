{
  "nbformat": 4,
  "nbformat_minor": 0,
  "metadata": {
    "colab": {
      "provenance": [],
      "authorship_tag": "ABX9TyPkX3QK2eDccL/Exlh7mMqr",
      "include_colab_link": true
    },
    "kernelspec": {
      "name": "python3",
      "display_name": "Python 3"
    },
    "language_info": {
      "name": "python"
    }
  },
  "cells": [
    {
      "cell_type": "markdown",
      "metadata": {
        "id": "view-in-github",
        "colab_type": "text"
      },
      "source": [
        "<a href=\"https://colab.research.google.com/github/saavedruky/IA_SISTEMAS_2024/blob/main/Practica2_Neurona.ipynb\" target=\"_parent\"><img src=\"https://colab.research.google.com/assets/colab-badge.svg\" alt=\"Open In Colab\"/></a>"
      ]
    },
    {
      "cell_type": "code",
      "execution_count": null,
      "metadata": {
        "id": "vWfioMQXzAb8"
      },
      "outputs": [],
      "source": []
    },
    {
      "cell_type": "markdown",
      "source": [
        "**#NEURONA APRENDIZAJE COMPUERTA AND**\n",
        "------\n",
        "00 --> 0\n",
        "01 --> 0\n",
        "10 --> 0\n",
        "11 --> 1"
      ],
      "metadata": {
        "id": "oxlEdA3741rH"
      }
    },
    {
      "cell_type": "markdown",
      "source": [
        "Inicio de Variables\n",
        "\n",
        "\n",
        "*   x: Representa las entradas del perceptron que le dan las dos variables\n",
        "*   w: Representa las variables asignados a cada entrada del perceptron\n",
        "*   s: Representa la variable que almacena la suma de las entradas multiplicadas\n",
        "\n",
        "\n",
        "\n",
        "\n",
        "\n",
        "\n"
      ],
      "metadata": {
        "id": "iXOSBCroETfK"
      }
    },
    {
      "cell_type": "code",
      "source": [
        "x=[0,1]\n",
        "w=[10,2]\n",
        "s=0"
      ],
      "metadata": {
        "id": "rngFhKwJEZg-"
      },
      "execution_count": 42,
      "outputs": []
    },
    {
      "cell_type": "markdown",
      "source": [
        "Bucle **for**: Recorre las dos entradas y realiza los pasos en cada linea"
      ],
      "metadata": {
        "id": "5nx6Jbe6HPP6"
      }
    },
    {
      "cell_type": "code",
      "source": [
        "for i in range(0,2):\n",
        "  s=s+x[i]*w[i]\n",
        "  print(s)\n",
        "  y=1 if s>=0 else 0\n",
        "  print(x[0], 'AND',x [1], '=',y)"
      ],
      "metadata": {
        "colab": {
          "base_uri": "https://localhost:8080/"
        },
        "id": "Q4LF6nG2HpbE",
        "outputId": "d832ab9c-e678-4188-d16c-3b06845ac4cd"
      },
      "execution_count": 43,
      "outputs": [
        {
          "output_type": "stream",
          "name": "stdout",
          "text": [
            "0\n",
            "0 AND 1 = 1\n",
            "2\n",
            "0 AND 1 = 1\n"
          ]
        }
      ]
    },
    {
      "cell_type": "markdown",
      "source": [
        "Suma Ponderada\n",
        "\n",
        "\n",
        "*   Multiplica cada entrada x[i] por el respectivo w[i] y acumula el resultado en s\n",
        "\n"
      ],
      "metadata": {
        "id": "hHuHSXjDH9TL"
      }
    },
    {
      "cell_type": "code",
      "source": [
        "s = s + x[i] * w[i]"
      ],
      "metadata": {
        "id": "FZ0RthAGI1l-"
      },
      "execution_count": 44,
      "outputs": []
    },
    {
      "cell_type": "markdown",
      "source": [
        "Imprimir la suma ponderada\n",
        "\n",
        "\n",
        "*   Este comando imprime el valor acumulado de s\n",
        "\n"
      ],
      "metadata": {
        "id": "n6gx2MyfJPyl"
      }
    },
    {
      "cell_type": "code",
      "source": [
        "print(s)"
      ],
      "metadata": {
        "colab": {
          "base_uri": "https://localhost:8080/"
        },
        "id": "piDloPd3JkBY",
        "outputId": "c26e46f4-db4c-45ab-b051-096ac4cae092"
      },
      "execution_count": 45,
      "outputs": [
        {
          "output_type": "stream",
          "name": "stdout",
          "text": [
            "4\n"
          ]
        }
      ]
    },
    {
      "cell_type": "markdown",
      "source": [
        "Funcion de Activacion\n",
        "\n",
        "\n",
        "*   Esta linea usa una funcion  de activacion simple para determinar si la salida y debe ser 1 o 0\n",
        "*   Si la suma  s es mayor o igual que 0, la salida es y=1\n",
        "*   Si la suma s es menor que 0, la salida es y=0\n",
        "\n",
        "\n",
        "\n"
      ],
      "metadata": {
        "id": "H5ac6nG2JqEQ"
      }
    },
    {
      "cell_type": "code",
      "source": [
        "y = 1 if s >= 0 else 0"
      ],
      "metadata": {
        "id": "sio-x6yBK29r"
      },
      "execution_count": 46,
      "outputs": []
    },
    {
      "cell_type": "markdown",
      "source": [
        "Imprimir el resultado\n",
        "\n",
        "\n",
        "*   Finalmente imprime la operacion solicitada x[0] AND x[1] junto con el valor de la salida y\n",
        "\n"
      ],
      "metadata": {
        "id": "PUbDleHTK8ci"
      }
    },
    {
      "cell_type": "code",
      "source": [
        "print(x[0], 'AND', x[1], '=', y)"
      ],
      "metadata": {
        "colab": {
          "base_uri": "https://localhost:8080/"
        },
        "id": "6tEyUpOjLVEx",
        "outputId": "ac016ce6-a972-4896-d715-bc84e4cfcfd4"
      },
      "execution_count": 47,
      "outputs": [
        {
          "output_type": "stream",
          "name": "stdout",
          "text": [
            "0 AND 1 = 1\n"
          ]
        }
      ]
    },
    {
      "cell_type": "markdown",
      "source": [
        "Ejecucion del Codigo"
      ],
      "metadata": {
        "id": "JEC4odHWLeO5"
      }
    },
    {
      "cell_type": "code",
      "source": [
        "x=[0,1]\n",
        "w=[10,2]\n",
        "s=0\n",
        "for i in range(0,2):\n",
        "  s=s+x[i]*w[i]\n",
        "  print(s)\n",
        "  y=1 if s>=0 else 0\n",
        "  print(x[0], 'AND',x [1], '=',y)"
      ],
      "metadata": {
        "colab": {
          "base_uri": "https://localhost:8080/"
        },
        "id": "Ohiy9oiq5une",
        "outputId": "d5a52177-46d8-4be3-fffd-6d1492d59999"
      },
      "execution_count": 48,
      "outputs": [
        {
          "output_type": "stream",
          "name": "stdout",
          "text": [
            "0\n",
            "0 AND 1 = 1\n",
            "2\n",
            "0 AND 1 = 1\n"
          ]
        }
      ]
    },
    {
      "cell_type": "markdown",
      "source": [
        "# **TALLER AUTOMOTRIZ**\n"
      ],
      "metadata": {
        "id": "U7clBeTVCua-"
      }
    },
    {
      "cell_type": "markdown",
      "source": [
        "Clase **part**\n",
        "\n",
        "Esta representa un atributo en este caso dos datos\n",
        "*   Name: nombre del dato\n",
        "*   Quantity: cantidad del dato\n",
        "\n",
        "\n",
        "\n"
      ],
      "metadata": {
        "id": "MNc_p7twOg3U"
      }
    },
    {
      "cell_type": "code",
      "source": [
        "def __init__(self, name, quantity):\n",
        "        self.name = name\n",
        "        self.quantity = quantity"
      ],
      "metadata": {
        "id": "UNcFE6ijPsOT"
      },
      "execution_count": 32,
      "outputs": []
    },
    {
      "cell_type": "markdown",
      "source": [
        "Clase **inventory**\n",
        "Esta clase representa un manejo de inventario de multiples datos, donde las claves son los nombre y los valores correspodientes"
      ],
      "metadata": {
        "id": "4uynS1dOP6eD"
      }
    },
    {
      "cell_type": "markdown",
      "source": [
        "Contructor: inicia un diccionario vacio para almacenar los datos"
      ],
      "metadata": {
        "id": "uC1aJU0VQX4K"
      }
    },
    {
      "cell_type": "code",
      "source": [
        "def __init__(self):\n",
        "        self.parts = {}"
      ],
      "metadata": {
        "id": "UYx7KyXeQndT"
      },
      "execution_count": 33,
      "outputs": []
    },
    {
      "cell_type": "markdown",
      "source": [
        "Metodo **add_part**: Este añade un dato al inventario, si el dato no existe se añade con la cantidad inicial"
      ],
      "metadata": {
        "id": "mYfdAK_fQrTh"
      }
    },
    {
      "cell_type": "code",
      "source": [
        "def add_part(self, part):\n",
        "        if part.name in self.parts:\n",
        "            self.parts[part.name] += part.quantity\n",
        "        else:\n",
        "            self.parts[part.name] = part.quantity"
      ],
      "metadata": {
        "id": "3RNQc8rMQ9_Q"
      },
      "execution_count": 34,
      "outputs": []
    },
    {
      "cell_type": "markdown",
      "source": [
        "Codigo"
      ],
      "metadata": {
        "id": "hKGjFBrEL3y_"
      }
    },
    {
      "cell_type": "code",
      "source": [
        "def __init__(self, name, quantity):\n",
        "        self.name = name\n",
        "        self.quantity = quantity\n",
        "\n",
        "class Inventory:\n",
        "    def __init__(self):\n",
        "        self.parts = {}\n",
        "\n",
        "    def add_part(self, part):\n",
        "        if part.name in self.parts:\n",
        "            self.parts[part.name] += part.quantity\n",
        "        else:\n",
        "            self.parts[part.name] = part.quantity\n",
        "\n",
        "    def remove_part(self, part_name, quantity):\n",
        "        if part_name in self.parts and self.parts[part_name] >= quantity:\n",
        "            self.parts[part_name] -= quantity\n",
        "        else:\n",
        "            print(f\"Error: Cannot remove {quantity} {part_name} from inventory.\")\n",
        "\n",
        "    def check_quantity(self, part_name):\n",
        "        if part_name in self.parts:\n",
        "            return self.parts[part_name]\n",
        "        else:\n",
        "            return 0\n",
        "\n",
        "    def restock(self, part_name, quantity):\n",
        "        if part_name in self.parts:\n",
        "            self.parts[part_name] += quantity\n",
        "        else:\n",
        "            self.parts[part_name] = quantity\n",
        "            print(f\"{quantity} {part_name} added to inventory.\")\n",
        "\n",
        "\n",
        "\n",
        "\n"
      ],
      "metadata": {
        "id": "KdSRY-ehL__b"
      },
      "execution_count": 35,
      "outputs": []
    },
    {
      "cell_type": "markdown",
      "source": [
        "Ejecucion del codigo"
      ],
      "metadata": {
        "id": "0RiXuPjwON17"
      }
    },
    {
      "cell_type": "code",
      "source": [
        "# Usage\n",
        "inventory = Inventory()\n",
        "\n",
        "# Check quantities\n",
        "print(inventory.check_quantity(\"brake pads\"))  # Output: 10\n",
        "print(inventory.check_quantity(\"spark plugs\"))  # Output: 0\n",
        "\n",
        "# Remove parts\n",
        "inventory.remove_part(\"brake pads\", 10)\n",
        "print(inventory.check_quantity(\"brake pads\"))  # Output: 0\n",
        "\n",
        "# Restock parts\n",
        "inventory.restock(\"oil filter\", 10)\n",
        "print(inventory.check_quantity(\"oil filter\"))  # Output: 60"
      ],
      "metadata": {
        "colab": {
          "base_uri": "https://localhost:8080/"
        },
        "id": "bZcuakd-NbHp",
        "outputId": "42b4a70e-f1bb-4ca1-872a-d7799a78a17d"
      },
      "execution_count": 36,
      "outputs": [
        {
          "output_type": "stream",
          "name": "stdout",
          "text": [
            "0\n",
            "0\n",
            "Error: Cannot remove 10 brake pads from inventory.\n",
            "0\n",
            "10 oil filter added to inventory.\n",
            "10\n"
          ]
        }
      ]
    },
    {
      "cell_type": "markdown",
      "source": [
        "# EMPRESA DE SERVICIOS"
      ],
      "metadata": {
        "id": "vKTsyr6SWM_C"
      }
    },
    {
      "cell_type": "markdown",
      "source": [
        "Clase **Employee**: Representa a un empleado que puede trabajar en varios proyectos se registran las horas trabajadas. También se pueden calcular los costos totales de las horas trabajadas en todos los proyectos con una tarifa por hora."
      ],
      "metadata": {
        "id": "h6AXUfhhWw1Q"
      }
    },
    {
      "cell_type": "markdown",
      "source": [
        "Constructor con dos atributos\n",
        "*   **Self.name**: Guarda el nombre del empleado\n",
        "*   **Self.projects**: Diccionario que mantiene el registro de los proyectos de cada empleado\n",
        "\n"
      ],
      "metadata": {
        "id": "m9H-Eh4YapuX"
      }
    },
    {
      "cell_type": "code",
      "source": [
        "def __init__(self, name):\n",
        "        self.name = name\n",
        "        self.projects = {}"
      ],
      "metadata": {
        "id": "hOWa41jMaZ3f"
      },
      "execution_count": 37,
      "outputs": []
    },
    {
      "cell_type": "markdown",
      "source": [
        "Metodo **add_hours**: Añade las horas trabajadas a un proyecto especifico\n",
        "*   Si el proyecto ya existe el diccionario **self.projects**\n",
        "*   Si el proyecto no existe, crea una nueva entrada\n",
        "\n"
      ],
      "metadata": {
        "id": "tnHNdEhebZ2l"
      }
    },
    {
      "cell_type": "code",
      "source": [
        "def add_hours(self, project_name, hours):\n",
        "        if project_name in self.projects:\n",
        "            self.projects[project_name] += hours\n",
        "        else:\n",
        "            self.projects[project_name] = hours"
      ],
      "metadata": {
        "id": "LkipE1hicti2"
      },
      "execution_count": 38,
      "outputs": []
    },
    {
      "cell_type": "markdown",
      "source": [
        "Metodo **calculate_cost**:el costo total de las horas trabajadas en todos los proyectos del empleado\n",
        "\n",
        "*   Inicia **total_cost** en 0\n",
        "*   Cada proyecto y las horas **self.projects**\n",
        "*   Para cada proyecto se multiplica las horas por tarifa por hora (**hourly_rate**) y acumula el resultado en **total_cost**\n",
        "*   Final se devuelve el costo total acumulado\n",
        "\n",
        "\n",
        "\n"
      ],
      "metadata": {
        "id": "iemhTjS5cvtT"
      }
    },
    {
      "cell_type": "code",
      "source": [
        "def calculate_cost(self, hourly_rate):\n",
        "        total_cost = 0\n",
        "        for project_name, hours in self.projects.items():\n",
        "            total_cost += hours * hourly_rate\n",
        "        return total_cost"
      ],
      "metadata": {
        "id": "cW0Gg-u1dyGM"
      },
      "execution_count": 39,
      "outputs": []
    },
    {
      "cell_type": "markdown",
      "source": [
        "Codigo"
      ],
      "metadata": {
        "id": "0GEM4ghcd6eS"
      }
    },
    {
      "cell_type": "code",
      "source": [
        "class Employee:\n",
        "    def __init__(self, name):\n",
        "        self.name = name\n",
        "        self.projects = {}\n",
        "\n",
        "    def add_hours(self, project_name, hours):\n",
        "        if project_name in self.projects:\n",
        "            self.projects[project_name] += hours\n",
        "        else:\n",
        "            self.projects[project_name] = hours\n",
        "\n",
        "    def calculate_cost(self, hourly_rate):\n",
        "        total_cost = 0\n",
        "        for project_name, hours in self.projects.items():\n",
        "            total_cost += hours * hourly_rate\n",
        "        return total_cost"
      ],
      "metadata": {
        "id": "j10Rr3-jd8la"
      },
      "execution_count": 40,
      "outputs": []
    },
    {
      "cell_type": "markdown",
      "source": [
        "Ejecucion del codigo"
      ],
      "metadata": {
        "id": "bQ6-ThSOeCsx"
      }
    },
    {
      "cell_type": "code",
      "source": [
        "# Create employees\n",
        "Karina = Employee(\"Karina\")\n",
        "Sofia = Employee(\"Sofia\")\n",
        "\n",
        "# Add hours worked on projects\n",
        "Karina.add_hours(\"Project A\", 10)\n",
        "Karina.add_hours(\"Project B\", 20)\n",
        "Sofia.add_hours(\"Project A\", 15)\n",
        "Sofia.add_hours(\"Project C\", 30)\n",
        "\n",
        "# Calculate total cost for each employee\n",
        "hourly_rate = 50\n",
        "print(f\"Karina total cost: ${Karina.calculate_cost(hourly_rate)}\")\n",
        "print(f\"Sofia total cost: ${Sofia.calculate_cost(hourly_rate)}\")"
      ],
      "metadata": {
        "colab": {
          "base_uri": "https://localhost:8080/"
        },
        "id": "WHYH8uEteGN6",
        "outputId": "159353d6-90c4-41ff-f8e4-3ef45115dcd3"
      },
      "execution_count": 41,
      "outputs": [
        {
          "output_type": "stream",
          "name": "stdout",
          "text": [
            "Karina total cost: $1500\n",
            "Sofia total cost: $2250\n"
          ]
        }
      ]
    }
  ]
}