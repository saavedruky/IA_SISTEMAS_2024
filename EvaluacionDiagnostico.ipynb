{
  "nbformat": 4,
  "nbformat_minor": 0,
  "metadata": {
    "colab": {
      "provenance": [],
      "authorship_tag": "ABX9TyPCleaGoCmE4pOnX1YfmKf0",
      "include_colab_link": true
    },
    "kernelspec": {
      "name": "python3",
      "display_name": "Python 3"
    },
    "language_info": {
      "name": "python"
    }
  },
  "cells": [
    {
      "cell_type": "markdown",
      "metadata": {
        "id": "view-in-github",
        "colab_type": "text"
      },
      "source": [
        "<a href=\"https://colab.research.google.com/github/saavedruky/IA_SISTEMAS_2024/blob/main/EvaluacionDiagnostico.ipynb\" target=\"_parent\"><img src=\"https://colab.research.google.com/assets/colab-badge.svg\" alt=\"Open In Colab\"/></a>"
      ]
    },
    {
      "cell_type": "markdown",
      "source": [
        "¿Como se declara una lista de Phyton?"
      ],
      "metadata": {
        "id": "IqaSg8Cmr9GK"
      }
    },
    {
      "cell_type": "code",
      "source": [
        "my_list=[1,2,3,4]\n",
        "print(my_list)"
      ],
      "metadata": {
        "colab": {
          "base_uri": "https://localhost:8080/"
        },
        "id": "32RoIDgtspeZ",
        "outputId": "d540c264-e67f-40b9-d83e-6df83e8c3030"
      },
      "execution_count": null,
      "outputs": [
        {
          "output_type": "stream",
          "name": "stdout",
          "text": [
            "[1, 2, 3, 4]\n"
          ]
        }
      ]
    },
    {
      "cell_type": "markdown",
      "source": [
        "¿Que funcion  se usa para conocer l numero de elementos en una lista?"
      ],
      "metadata": {
        "id": "5SeiL5sMs46w"
      }
    },
    {
      "cell_type": "code",
      "source": [
        "len()"
      ],
      "metadata": {
        "colab": {
          "base_uri": "https://localhost:8080/",
          "height": 141
        },
        "id": "FUe9Bd7ntD3N",
        "outputId": "a885c810-b9e7-46f7-85bb-bb129044bead"
      },
      "execution_count": null,
      "outputs": [
        {
          "output_type": "error",
          "ename": "TypeError",
          "evalue": "len() takes exactly one argument (0 given)",
          "traceback": [
            "\u001b[0;31m---------------------------------------------------------------------------\u001b[0m",
            "\u001b[0;31mTypeError\u001b[0m                                 Traceback (most recent call last)",
            "\u001b[0;32m<ipython-input-2-adf3103c7c3e>\u001b[0m in \u001b[0;36m<cell line: 1>\u001b[0;34m()\u001b[0m\n\u001b[0;32m----> 1\u001b[0;31m \u001b[0mlen\u001b[0m\u001b[0;34m(\u001b[0m\u001b[0;34m)\u001b[0m\u001b[0;34m\u001b[0m\u001b[0;34m\u001b[0m\u001b[0m\n\u001b[0m",
            "\u001b[0;31mTypeError\u001b[0m: len() takes exactly one argument (0 given)"
          ]
        }
      ]
    },
    {
      "cell_type": "markdown",
      "source": [
        "¿Que resultado obtendremos al ejecutar el siguiente codigo?"
      ],
      "metadata": {
        "id": "QSpfwA_ntN8w"
      }
    },
    {
      "cell_type": "code",
      "source": [
        "a=[1,2,3,4,5]\n",
        "print(a[::-1])\n"
      ],
      "metadata": {
        "colab": {
          "base_uri": "https://localhost:8080/"
        },
        "id": "dhpntN3CtakA",
        "outputId": "3a43c070-d7dd-4b09-fb72-f0ea0c932966"
      },
      "execution_count": null,
      "outputs": [
        {
          "output_type": "stream",
          "name": "stdout",
          "text": [
            "[5, 4, 3, 2, 1]\n"
          ]
        }
      ]
    },
    {
      "cell_type": "markdown",
      "source": [
        "¿Cual es el resultado de la siguiente expression?"
      ],
      "metadata": {
        "id": "CYHqzZH-tug2"
      }
    },
    {
      "cell_type": "code",
      "source": [
        "print(3*\"5\"+2)"
      ],
      "metadata": {
        "colab": {
          "base_uri": "https://localhost:8080/",
          "height": 141
        },
        "id": "DTYACH7ct2y0",
        "outputId": "6d49d87b-f0da-4739-9c67-7deb2a0a0917"
      },
      "execution_count": null,
      "outputs": [
        {
          "output_type": "error",
          "ename": "TypeError",
          "evalue": "can only concatenate str (not \"int\") to str",
          "traceback": [
            "\u001b[0;31m---------------------------------------------------------------------------\u001b[0m",
            "\u001b[0;31mTypeError\u001b[0m                                 Traceback (most recent call last)",
            "\u001b[0;32m<ipython-input-4-ecf93d8422a1>\u001b[0m in \u001b[0;36m<cell line: 1>\u001b[0;34m()\u001b[0m\n\u001b[0;32m----> 1\u001b[0;31m \u001b[0mprint\u001b[0m\u001b[0;34m(\u001b[0m\u001b[0;36m3\u001b[0m\u001b[0;34m*\u001b[0m\u001b[0;34m\"5\"\u001b[0m\u001b[0;34m+\u001b[0m\u001b[0;36m2\u001b[0m\u001b[0;34m)\u001b[0m\u001b[0;34m\u001b[0m\u001b[0;34m\u001b[0m\u001b[0m\n\u001b[0m",
            "\u001b[0;31mTypeError\u001b[0m: can only concatenate str (not \"int\") to str"
          ]
        }
      ]
    },
    {
      "cell_type": "markdown",
      "source": [
        "¿Que salida generara el siguiente codigo?"
      ],
      "metadata": {
        "id": "ta0nt0nLuBjH"
      }
    },
    {
      "cell_type": "code",
      "source": [
        "def foo(x,y=[]):\n",
        "  y.append(x)\n",
        "  return y\n",
        "  print(foo(1))\n",
        "  print(foo(2,[]))\n",
        "  print(foo(3))"
      ],
      "metadata": {
        "id": "cRba1BmkuIpu"
      },
      "execution_count": null,
      "outputs": []
    },
    {
      "cell_type": "markdown",
      "source": [
        "¿Que resultado obtendremos al ejecutar el siguiente codigo?"
      ],
      "metadata": {
        "id": "4pDRHrF_uw0r"
      }
    },
    {
      "cell_type": "code",
      "source": [
        "def multiply_list(numbers,factor):\n",
        "  result=[]\n",
        "  for number in numbers:\n",
        "    result.append(number*factor)\n",
        "    return result\n",
        "    my_list=[1,2,3]\n",
        "    output=multiply_list(my_list,2)\n",
        "    print(output)"
      ],
      "metadata": {
        "id": "r8ojEAOVu4cZ"
      },
      "execution_count": null,
      "outputs": []
    }
  ]
}