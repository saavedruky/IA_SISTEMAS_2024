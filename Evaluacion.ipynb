{
  "cells": [
    {
      "cell_type": "markdown",
      "metadata": {
        "id": "view-in-github",
        "colab_type": "text"
      },
      "source": [
        "<a href=\"https://colab.research.google.com/github/saavedruky/IA_SISTEMAS_2024/blob/main/Evaluacion.ipynb\" target=\"_parent\"><img src=\"https://colab.research.google.com/assets/colab-badge.svg\" alt=\"Open In Colab\"/></a>"
      ]
    },
    {
      "cell_type": "markdown",
      "source": [
        "Programa base de la compuerta AND\n",
        "Modificar para que funcione con las dos compuertas AND y OR\n"
      ],
      "metadata": {
        "id": "38Lu02Hu9dW4"
      }
    },
    {
      "cell_type": "code",
      "execution_count": 1,
      "metadata": {
        "colab": {
          "base_uri": "https://localhost:8080/"
        },
        "id": "phFRwmDc5N18",
        "outputId": "592d2ccb-968a-4095-d58e-db040e5c9369"
      },
      "outputs": [
        {
          "output_type": "stream",
          "name": "stdout",
          "text": [
            "Ingrese el valor de x0 (0 o 1): 1\n",
            "Ingrese el valor de x1 (0 o 1): 0\n",
            "\n",
            "1 AND 0 = 0\n",
            "1 OR 0 = 1\n",
            "\n",
            "¿Quiere introducir otro datasheet? (s/n): s\n",
            "Ingrese el valor de x0 (0 o 1): 0\n",
            "Ingrese el valor de x1 (0 o 1): 1\n",
            "\n",
            "0 AND 1 = 0\n",
            "0 OR 1 = 1\n",
            "\n",
            "¿Quiere introducir otro datasheet? (s/n): n\n",
            "Saliendo del programa.\n"
          ]
        }
      ],
      "source": [
        "def calcular_puertas_logicas(x0, x1):\n",
        "    # Definir pesos para AND y OR\n",
        "    pesos = [1, 1]\n",
        "\n",
        "    # Sesgos para AND y OR\n",
        "    sesgo_and = -1\n",
        "    sesgo_or = 0\n",
        "\n",
        "    # Calcular AND\n",
        "    salida_and = sesgo_and + x0 * pesos[0] + x1 * pesos[1]\n",
        "    resultado_and = 1 if salida_and > 0 else 0\n",
        "\n",
        "    # Calcular OR\n",
        "    salida_or = sesgo_or + x0 * pesos[0] + x1 * pesos[1]\n",
        "    resultado_or = 1 if salida_or > 0 else 0\n",
        "\n",
        "    return resultado_and, resultado_or\n",
        "\n",
        "while True:\n",
        "    try:\n",
        "        a = int(input(\"Ingrese el valor de x0 (0 o 1): \"))\n",
        "        b = int(input(\"Ingrese el valor de x1 (0 o 1): \"))\n",
        "        if a not in [0, 1] or b not in [0, 1]:\n",
        "            raise ValueError(\"Los valores deben ser 0 o 1.\")\n",
        "    except ValueError as error:\n",
        "        print(f\"Error: {error}. Por favor, introduzca valores numéricos válidos.\")\n",
        "        continue\n",
        "\n",
        "    # Calcular resultados para AND y OR\n",
        "    resultado_and, resultado_or = calcular_puertas_logicas(a, b)\n",
        "\n",
        "    # Mostrar resultados\n",
        "    print(f\"\\n{a} AND {b} = {resultado_and}\")\n",
        "    print(f\"{a} OR {b} = {resultado_or}\")\n",
        "\n",
        "    # Preguntar si desea continuar\n",
        "    opcion = input(\"\\n¿Quiere introducir otro? (s/n): \").lower()\n",
        "    if opcion == 'n':\n",
        "        print(\"Saliendo del programa.\")\n",
        "        break"
      ]
    }
  ],
  "metadata": {
    "colab": {
      "provenance": [],
      "authorship_tag": "ABX9TyOtXyI+oJX/l5pykZBIlwSx",
      "include_colab_link": true
    },
    "kernelspec": {
      "display_name": "Python 3",
      "name": "python3"
    },
    "language_info": {
      "name": "python"
    }
  },
  "nbformat": 4,
  "nbformat_minor": 0
}